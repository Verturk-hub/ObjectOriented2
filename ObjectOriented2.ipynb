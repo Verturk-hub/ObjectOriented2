{
 "cells": [
  {
   "cell_type": "code",
   "execution_count": 5,
   "source": [
    "class car():\r\n",
    "    def __init__(self, color,mileage):\r\n",
    "        self.color = color\r\n",
    "        self.mileage = mileage"
   ],
   "outputs": [],
   "metadata": {}
  },
  {
   "cell_type": "code",
   "execution_count": 8,
   "source": [
    "cb = car('blue', 20000)\r\n",
    "cr = car('red', 30000)\r\n"
   ],
   "outputs": [],
   "metadata": {}
  },
  {
   "cell_type": "code",
   "execution_count": 14,
   "source": [
    "print(f'The {cb.color} car has {cb.mileage} miles.')\r\n",
    "print(f'The {cr.color} car has {cr.mileage} miles.')"
   ],
   "outputs": [
    {
     "output_type": "stream",
     "name": "stdout",
     "text": [
      "The blue car has 20000 miles.\n",
      "The red car has 30000 miles.\n"
     ]
    }
   ],
   "metadata": {}
  },
  {
   "cell_type": "code",
   "execution_count": 15,
   "source": [
    "for car in (cb,cr):\r\n",
    "    print(f'The {car.color} car has {car.mileage:,} miles')"
   ],
   "outputs": [
    {
     "output_type": "stream",
     "name": "stdout",
     "text": [
      "The blue car has 20,000 miles\n",
      "The red car has 30,000 miles\n"
     ]
    }
   ],
   "metadata": {}
  },
  {
   "cell_type": "code",
   "execution_count": 16,
   "source": [
    "class Dog:\r\n",
    "    species = \"Canis familiaris\"\r\n",
    "\r\n",
    "    def __init__(self, name, age):\r\n",
    "        self.name = name\r\n",
    "        self.age = age\r\n",
    "\r\n",
    "    def __str__(self):\r\n",
    "        return f\"{self.name} is {self.age} years old\"\r\n",
    "\r\n",
    "    def speak(self, sound):\r\n",
    "        return f\"{self.name} says {sound}\""
   ],
   "outputs": [],
   "metadata": {}
  },
  {
   "cell_type": "code",
   "execution_count": 17,
   "source": [
    "class GoldenRetriever(Dog):\r\n",
    "    def speak(self, sound='Bark'):\r\n",
    "        return f'{self.name} says {sound}'\r\n"
   ],
   "outputs": [],
   "metadata": {}
  },
  {
   "cell_type": "code",
   "execution_count": 18,
   "source": [
    "kitmir = GoldenRetriever('Kitmir',100)\r\n",
    "kitmir.speak()"
   ],
   "outputs": [
    {
     "output_type": "execute_result",
     "data": {
      "text/plain": [
       "'Kitmir says Bark'"
      ]
     },
     "metadata": {},
     "execution_count": 18
    }
   ],
   "metadata": {}
  },
  {
   "cell_type": "code",
   "execution_count": 19,
   "source": [
    "kitmir.speak('Allah')"
   ],
   "outputs": [
    {
     "output_type": "execute_result",
     "data": {
      "text/plain": [
       "'Kitmir says Allah'"
      ]
     },
     "metadata": {},
     "execution_count": 19
    }
   ],
   "metadata": {}
  },
  {
   "cell_type": "code",
   "execution_count": null,
   "source": [],
   "outputs": [],
   "metadata": {}
  }
 ],
 "metadata": {
  "orig_nbformat": 4,
  "language_info": {
   "name": "python",
   "version": "3.8.12",
   "mimetype": "text/x-python",
   "codemirror_mode": {
    "name": "ipython",
    "version": 3
   },
   "pygments_lexer": "ipython3",
   "nbconvert_exporter": "python",
   "file_extension": ".py"
  },
  "kernelspec": {
   "name": "python3",
   "display_name": "Python 3.8.12 64-bit ('ml': conda)"
  },
  "interpreter": {
   "hash": "ff1e2c4a7e03eeb4e26e4d26d514da215ebf38dfce64ba6fdcc533779cdbe8b5"
  }
 },
 "nbformat": 4,
 "nbformat_minor": 2
}